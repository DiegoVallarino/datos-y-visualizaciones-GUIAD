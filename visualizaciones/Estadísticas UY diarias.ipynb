{
 "cells": [
  {
   "cell_type": "markdown",
   "metadata": {},
   "source": [
    "## Visualización de estadísticas diarias COVID-19 en Uruguay\n",
    "#### GUIAD-COVID-19\n",
    "\n",
    "A partir de los datos públicos que pueden descargarse [aquí](https://raw.githubusercontent.com/GUIAD-COVID/datos-y-visualizaciones-GUIAD/master/datos/estadisticasUY.csv)\n"
   ]
  },
  {
   "cell_type": "code",
   "execution_count": 54,
   "metadata": {
    "jupyter": {
     "source_hidden": true
    }
   },
   "outputs": [],
   "source": [
    "import pandas as pd\n",
    "import altair as alt\n",
    "\n",
    "# Levanto los datos\n",
    "dateparse = lambda x: pd.datetime.strptime(x, '%d/%m/%Y')\n",
    "uy=pd.read_csv('https://raw.githubusercontent.com/GUIAD-COVID/datos-y-visualizaciones-GUIAD/master/datos/estadisticasUY.csv',\n",
    "              parse_dates=['fecha'], infer_datetime_format=True)\n",
    "#uy=pd.read_csv('https://raw.githubusercontent.com/GUIAD-COVID/datos-y-visualizaciones-GUIAD/master/datos/estadisticasUY.csv',\n",
    "#parse_dates=['fecha'], date_parser=dateparse)\n"
   ]
  },
  {
   "cell_type": "markdown",
   "metadata": {},
   "source": [
    "### Cantidad de Tests Acumulados"
   ]
  },
  {
   "cell_type": "code",
   "execution_count": 35,
   "metadata": {
    "jupyter": {
     "source_hidden": true
    }
   },
   "outputs": [
    {
     "data": {
      "text/html": [
       "\n",
       "<div id=\"altair-viz-2076240d1f464360a5e2f03db72d0c92\"></div>\n",
       "<script type=\"text/javascript\">\n",
       "  (function(spec, embedOpt){\n",
       "    let outputDiv = document.currentScript.previousElementSibling;\n",
       "    if (outputDiv.id !== \"altair-viz-2076240d1f464360a5e2f03db72d0c92\") {\n",
       "      outputDiv = document.getElementById(\"altair-viz-2076240d1f464360a5e2f03db72d0c92\");\n",
       "    }\n",
       "    const paths = {\n",
       "      \"vega\": \"https://cdn.jsdelivr.net/npm//vega@5?noext\",\n",
       "      \"vega-lib\": \"https://cdn.jsdelivr.net/npm//vega-lib?noext\",\n",
       "      \"vega-lite\": \"https://cdn.jsdelivr.net/npm//vega-lite@4.8.1?noext\",\n",
       "      \"vega-embed\": \"https://cdn.jsdelivr.net/npm//vega-embed@6?noext\",\n",
       "    };\n",
       "\n",
       "    function loadScript(lib) {\n",
       "      return new Promise(function(resolve, reject) {\n",
       "        var s = document.createElement('script');\n",
       "        s.src = paths[lib];\n",
       "        s.async = true;\n",
       "        s.onload = () => resolve(paths[lib]);\n",
       "        s.onerror = () => reject(`Error loading script: ${paths[lib]}`);\n",
       "        document.getElementsByTagName(\"head\")[0].appendChild(s);\n",
       "      });\n",
       "    }\n",
       "\n",
       "    function showError(err) {\n",
       "      outputDiv.innerHTML = `<div class=\"error\" style=\"color:red;\">${err}</div>`;\n",
       "      throw err;\n",
       "    }\n",
       "\n",
       "    function displayChart(vegaEmbed) {\n",
       "      vegaEmbed(outputDiv, spec, embedOpt)\n",
       "        .catch(err => showError(`Javascript Error: ${err.message}<br>This usually means there's a typo in your chart specification. See the javascript console for the full traceback.`));\n",
       "    }\n",
       "\n",
       "    if(typeof define === \"function\" && define.amd) {\n",
       "      requirejs.config({paths});\n",
       "      require([\"vega-embed\"], displayChart, err => showError(`Error loading script: ${err.message}`));\n",
       "    } else if (typeof vegaEmbed === \"function\") {\n",
       "      displayChart(vegaEmbed);\n",
       "    } else {\n",
       "      loadScript(\"vega\")\n",
       "        .then(() => loadScript(\"vega-lite\"))\n",
       "        .then(() => loadScript(\"vega-embed\"))\n",
       "        .catch(showError)\n",
       "        .then(() => displayChart(vegaEmbed));\n",
       "    }\n",
       "  })({\"config\": {\"view\": {\"continuousWidth\": 400, \"continuousHeight\": 300}}, \"data\": {\"name\": \"data-89012bb1f924def0b258b9ac8fe266d2\"}, \"mark\": {\"type\": \"bar\", \"size\": 10}, \"encoding\": {\"color\": {\"type\": \"nominal\", \"field\": \"atributo\", \"title\": \"Tests acumulados\"}, \"x\": {\"type\": \"temporal\", \"field\": \"fecha\", \"title\": \"Fecha\"}, \"y\": {\"type\": \"quantitative\", \"field\": \"valor\", \"title\": \"Cantidad de Tests\"}}, \"title\": \"Cantidad de Tests COVID-19 en Uruguay\", \"$schema\": \"https://vega.github.io/schema/vega-lite/v4.8.1.json\", \"datasets\": {\"data-89012bb1f924def0b258b9ac8fe266d2\": [{\"fecha\": \"2020-03-13T00:00:00\", \"atributo\": \"Positivos\", \"valor\": 4.0}, {\"fecha\": \"2020-03-14T00:00:00\", \"atributo\": \"Positivos\", \"valor\": 6.0}, {\"fecha\": \"2020-03-15T00:00:00\", \"atributo\": \"Positivos\", \"valor\": 8.0}, {\"fecha\": \"2020-03-16T00:00:00\", \"atributo\": \"Positivos\", \"valor\": 29.0}, {\"fecha\": \"2020-03-17T00:00:00\", \"atributo\": \"Positivos\", \"valor\": 50.0}, {\"fecha\": \"2020-03-18T00:00:00\", \"atributo\": \"Positivos\", \"valor\": 79.0}, {\"fecha\": \"2020-03-19T00:00:00\", \"atributo\": \"Positivos\", \"valor\": 94.0}, {\"fecha\": \"2020-03-20T00:00:00\", \"atributo\": \"Positivos\", \"valor\": 110.0}, {\"fecha\": \"2020-03-21T00:00:00\", \"atributo\": \"Positivos\", \"valor\": 135.0}, {\"fecha\": \"2020-03-22T00:00:00\", \"atributo\": \"Positivos\", \"valor\": 158.0}, {\"fecha\": \"2020-03-23T00:00:00\", \"atributo\": \"Positivos\", \"valor\": 162.0}, {\"fecha\": \"2020-03-24T00:00:00\", \"atributo\": \"Positivos\", \"valor\": 189.0}, {\"fecha\": \"2020-03-25T00:00:00\", \"atributo\": \"Positivos\", \"valor\": 217.0}, {\"fecha\": \"2020-03-26T00:00:00\", \"atributo\": \"Positivos\", \"valor\": 238.0}, {\"fecha\": \"2020-03-27T00:00:00\", \"atributo\": \"Positivos\", \"valor\": 274.0}, {\"fecha\": \"2020-03-28T00:00:00\", \"atributo\": \"Positivos\", \"valor\": 304.0}, {\"fecha\": \"2020-03-29T00:00:00\", \"atributo\": \"Positivos\", \"valor\": 310.0}, {\"fecha\": \"2020-03-30T00:00:00\", \"atributo\": \"Positivos\", \"valor\": 320.0}, {\"fecha\": \"2020-03-31T00:00:00\", \"atributo\": \"Positivos\", \"valor\": 338.0}, {\"fecha\": \"2020-04-01T00:00:00\", \"atributo\": \"Positivos\", \"valor\": 350.0}, {\"fecha\": \"2020-04-02T00:00:00\", \"atributo\": \"Positivos\", \"valor\": 369.0}, {\"fecha\": \"2020-04-03T00:00:00\", \"atributo\": \"Positivos\", \"valor\": 386.0}, {\"fecha\": \"2020-04-04T00:00:00\", \"atributo\": \"Positivos\", \"valor\": 400.0}, {\"fecha\": \"2020-04-05T00:00:00\", \"atributo\": \"Positivos\", \"valor\": 406.0}, {\"fecha\": \"2020-04-06T00:00:00\", \"atributo\": \"Positivos\", \"valor\": 415.0}, {\"fecha\": \"2020-04-07T00:00:00\", \"atributo\": \"Positivos\", \"valor\": 424.0}, {\"fecha\": \"2020-04-08T00:00:00\", \"atributo\": \"Positivos\", \"valor\": 456.0}, {\"fecha\": \"2020-04-09T00:00:00\", \"atributo\": \"Positivos\", \"valor\": 473.0}, {\"fecha\": \"2020-04-10T00:00:00\", \"atributo\": \"Positivos\", \"valor\": 494.0}, {\"fecha\": \"2020-04-11T00:00:00\", \"atributo\": \"Positivos\", \"valor\": 501.0}, {\"fecha\": \"2020-04-12T00:00:00\", \"atributo\": \"Positivos\", \"valor\": 512.0}, {\"fecha\": \"2020-04-13T00:00:00\", \"atributo\": \"Positivos\", \"valor\": 521.0}, {\"fecha\": \"2020-04-14T00:00:00\", \"atributo\": \"Positivos\", \"valor\": 533.0}, {\"fecha\": \"2020-04-15T00:00:00\", \"atributo\": \"Positivos\", \"valor\": 539.0}, {\"fecha\": \"2020-04-16T00:00:00\", \"atributo\": \"Positivos\", \"valor\": 552.0}, {\"fecha\": \"2020-03-13T00:00:00\", \"atributo\": \"Total\", \"valor\": null}, {\"fecha\": \"2020-03-14T00:00:00\", \"atributo\": \"Total\", \"valor\": null}, {\"fecha\": \"2020-03-15T00:00:00\", \"atributo\": \"Total\", \"valor\": null}, {\"fecha\": \"2020-03-16T00:00:00\", \"atributo\": \"Total\", \"valor\": null}, {\"fecha\": \"2020-03-17T00:00:00\", \"atributo\": \"Total\", \"valor\": null}, {\"fecha\": \"2020-03-18T00:00:00\", \"atributo\": \"Total\", \"valor\": null}, {\"fecha\": \"2020-03-19T00:00:00\", \"atributo\": \"Total\", \"valor\": null}, {\"fecha\": \"2020-03-20T00:00:00\", \"atributo\": \"Total\", \"valor\": null}, {\"fecha\": \"2020-03-21T00:00:00\", \"atributo\": \"Total\", \"valor\": null}, {\"fecha\": \"2020-03-22T00:00:00\", \"atributo\": \"Total\", \"valor\": 1129.0}, {\"fecha\": \"2020-03-23T00:00:00\", \"atributo\": \"Total\", \"valor\": 1340.0}, {\"fecha\": \"2020-03-24T00:00:00\", \"atributo\": \"Total\", \"valor\": 1538.0}, {\"fecha\": \"2020-03-25T00:00:00\", \"atributo\": \"Total\", \"valor\": 1858.0}, {\"fecha\": \"2020-03-26T00:00:00\", \"atributo\": \"Total\", \"valor\": 2103.0}, {\"fecha\": \"2020-03-27T00:00:00\", \"atributo\": \"Total\", \"valor\": 2554.0}, {\"fecha\": \"2020-03-28T00:00:00\", \"atributo\": \"Total\", \"valor\": 2926.0}, {\"fecha\": \"2020-03-29T00:00:00\", \"atributo\": \"Total\", \"valor\": 3126.0}, {\"fecha\": \"2020-03-30T00:00:00\", \"atributo\": \"Total\", \"valor\": 3425.0}, {\"fecha\": \"2020-03-31T00:00:00\", \"atributo\": \"Total\", \"valor\": 3819.0}, {\"fecha\": \"2020-04-01T00:00:00\", \"atributo\": \"Total\", \"valor\": 4108.0}, {\"fecha\": \"2020-04-02T00:00:00\", \"atributo\": \"Total\", \"valor\": 4464.0}, {\"fecha\": \"2020-04-03T00:00:00\", \"atributo\": \"Total\", \"valor\": 4786.0}, {\"fecha\": \"2020-04-04T00:00:00\", \"atributo\": \"Total\", \"valor\": 5063.0}, {\"fecha\": \"2020-04-05T00:00:00\", \"atributo\": \"Total\", \"valor\": 5208.0}, {\"fecha\": \"2020-04-06T00:00:00\", \"atributo\": \"Total\", \"valor\": 5385.0}, {\"fecha\": \"2020-04-07T00:00:00\", \"atributo\": \"Total\", \"valor\": 5727.0}, {\"fecha\": \"2020-04-08T00:00:00\", \"atributo\": \"Total\", \"valor\": 6175.0}, {\"fecha\": \"2020-04-09T00:00:00\", \"atributo\": \"Total\", \"valor\": 6856.0}, {\"fecha\": \"2020-04-10T00:00:00\", \"atributo\": \"Total\", \"valor\": 7496.0}, {\"fecha\": \"2020-04-11T00:00:00\", \"atributo\": \"Total\", \"valor\": 8114.0}, {\"fecha\": \"2020-04-12T00:00:00\", \"atributo\": \"Total\", \"valor\": 8774.0}, {\"fecha\": \"2020-04-13T00:00:00\", \"atributo\": \"Total\", \"valor\": 9236.0}, {\"fecha\": \"2020-04-14T00:00:00\", \"atributo\": \"Total\", \"valor\": 9929.0}, {\"fecha\": \"2020-04-15T00:00:00\", \"atributo\": \"Total\", \"valor\": 10448.0}, {\"fecha\": \"2020-04-16T00:00:00\", \"atributo\": \"Total\", \"valor\": 11239.0}]}}, {\"mode\": \"vega-lite\"});\n",
       "</script>"
      ],
      "text/plain": [
       "alt.Chart(...)"
      ]
     },
     "execution_count": 35,
     "metadata": {},
     "output_type": "execute_result"
    }
   ],
   "source": [
    "\n",
    "\n",
    "# Selecciono campos a mostrar\n",
    "uymelt=pd.melt(uy.rename({'acumTestPositivos':'Positivos','acumTest':'Total' },axis=1),\n",
    "               id_vars='fecha', value_vars=['Positivos', 'Total'], var_name='atributo', value_name='valor')\n",
    "alt.Chart(uymelt).mark_bar(size=10).encode(\n",
    "    alt.X('fecha', type='temporal', title='Fecha'),\n",
    "    alt.Y('valor', type='quantitative', title='Cantidad de Tests'),\n",
    "    alt.Color('atributo', title='Tests acumulados')\n",
    ").properties(title='Cantidad de Tests COVID-19 en Uruguay')\n",
    "\n"
   ]
  },
  {
   "cell_type": "markdown",
   "metadata": {},
   "source": [
    "### Cantidad de Tests Diarios"
   ]
  },
  {
   "cell_type": "code",
   "execution_count": 36,
   "metadata": {
    "jupyter": {
     "source_hidden": true
    }
   },
   "outputs": [
    {
     "data": {
      "text/html": [
       "\n",
       "<div id=\"altair-viz-e86628813c734d95b640c7f2a39459ac\"></div>\n",
       "<script type=\"text/javascript\">\n",
       "  (function(spec, embedOpt){\n",
       "    let outputDiv = document.currentScript.previousElementSibling;\n",
       "    if (outputDiv.id !== \"altair-viz-e86628813c734d95b640c7f2a39459ac\") {\n",
       "      outputDiv = document.getElementById(\"altair-viz-e86628813c734d95b640c7f2a39459ac\");\n",
       "    }\n",
       "    const paths = {\n",
       "      \"vega\": \"https://cdn.jsdelivr.net/npm//vega@5?noext\",\n",
       "      \"vega-lib\": \"https://cdn.jsdelivr.net/npm//vega-lib?noext\",\n",
       "      \"vega-lite\": \"https://cdn.jsdelivr.net/npm//vega-lite@4.8.1?noext\",\n",
       "      \"vega-embed\": \"https://cdn.jsdelivr.net/npm//vega-embed@6?noext\",\n",
       "    };\n",
       "\n",
       "    function loadScript(lib) {\n",
       "      return new Promise(function(resolve, reject) {\n",
       "        var s = document.createElement('script');\n",
       "        s.src = paths[lib];\n",
       "        s.async = true;\n",
       "        s.onload = () => resolve(paths[lib]);\n",
       "        s.onerror = () => reject(`Error loading script: ${paths[lib]}`);\n",
       "        document.getElementsByTagName(\"head\")[0].appendChild(s);\n",
       "      });\n",
       "    }\n",
       "\n",
       "    function showError(err) {\n",
       "      outputDiv.innerHTML = `<div class=\"error\" style=\"color:red;\">${err}</div>`;\n",
       "      throw err;\n",
       "    }\n",
       "\n",
       "    function displayChart(vegaEmbed) {\n",
       "      vegaEmbed(outputDiv, spec, embedOpt)\n",
       "        .catch(err => showError(`Javascript Error: ${err.message}<br>This usually means there's a typo in your chart specification. See the javascript console for the full traceback.`));\n",
       "    }\n",
       "\n",
       "    if(typeof define === \"function\" && define.amd) {\n",
       "      requirejs.config({paths});\n",
       "      require([\"vega-embed\"], displayChart, err => showError(`Error loading script: ${err.message}`));\n",
       "    } else if (typeof vegaEmbed === \"function\") {\n",
       "      displayChart(vegaEmbed);\n",
       "    } else {\n",
       "      loadScript(\"vega\")\n",
       "        .then(() => loadScript(\"vega-lite\"))\n",
       "        .then(() => loadScript(\"vega-embed\"))\n",
       "        .catch(showError)\n",
       "        .then(() => displayChart(vegaEmbed));\n",
       "    }\n",
       "  })({\"config\": {\"view\": {\"continuousWidth\": 400, \"continuousHeight\": 300}}, \"data\": {\"name\": \"data-d66adfd8c87742355626fb6e851c4509\"}, \"mark\": {\"type\": \"bar\", \"size\": 10}, \"encoding\": {\"color\": {\"type\": \"nominal\", \"field\": \"atributo\", \"title\": \"Tests diarios\"}, \"x\": {\"type\": \"temporal\", \"field\": \"fecha\", \"title\": \"Fecha\"}, \"y\": {\"type\": \"quantitative\", \"field\": \"valor\", \"title\": \"Cantidad de Tests\"}}, \"title\": \"Cantidad de Tests Diarios COVID-19 en Uruguay\", \"$schema\": \"https://vega.github.io/schema/vega-lite/v4.8.1.json\", \"datasets\": {\"data-d66adfd8c87742355626fb6e851c4509\": [{\"fecha\": \"2020-03-13T00:00:00\", \"atributo\": \"Total\", \"valor\": null}, {\"fecha\": \"2020-03-14T00:00:00\", \"atributo\": \"Total\", \"valor\": null}, {\"fecha\": \"2020-03-15T00:00:00\", \"atributo\": \"Total\", \"valor\": null}, {\"fecha\": \"2020-03-16T00:00:00\", \"atributo\": \"Total\", \"valor\": null}, {\"fecha\": \"2020-03-17T00:00:00\", \"atributo\": \"Total\", \"valor\": null}, {\"fecha\": \"2020-03-18T00:00:00\", \"atributo\": \"Total\", \"valor\": null}, {\"fecha\": \"2020-03-19T00:00:00\", \"atributo\": \"Total\", \"valor\": null}, {\"fecha\": \"2020-03-20T00:00:00\", \"atributo\": \"Total\", \"valor\": null}, {\"fecha\": \"2020-03-21T00:00:00\", \"atributo\": \"Total\", \"valor\": null}, {\"fecha\": \"2020-03-22T00:00:00\", \"atributo\": \"Total\", \"valor\": 205.0}, {\"fecha\": \"2020-03-23T00:00:00\", \"atributo\": \"Total\", \"valor\": 211.0}, {\"fecha\": \"2020-03-24T00:00:00\", \"atributo\": \"Total\", \"valor\": 198.0}, {\"fecha\": \"2020-03-25T00:00:00\", \"atributo\": \"Total\", \"valor\": 320.0}, {\"fecha\": \"2020-03-26T00:00:00\", \"atributo\": \"Total\", \"valor\": 245.0}, {\"fecha\": \"2020-03-27T00:00:00\", \"atributo\": \"Total\", \"valor\": 451.0}, {\"fecha\": \"2020-03-28T00:00:00\", \"atributo\": \"Total\", \"valor\": 372.0}, {\"fecha\": \"2020-03-29T00:00:00\", \"atributo\": \"Total\", \"valor\": 200.0}, {\"fecha\": \"2020-03-30T00:00:00\", \"atributo\": \"Total\", \"valor\": 299.0}, {\"fecha\": \"2020-03-31T00:00:00\", \"atributo\": \"Total\", \"valor\": 394.0}, {\"fecha\": \"2020-04-01T00:00:00\", \"atributo\": \"Total\", \"valor\": 289.0}, {\"fecha\": \"2020-04-02T00:00:00\", \"atributo\": \"Total\", \"valor\": 356.0}, {\"fecha\": \"2020-04-03T00:00:00\", \"atributo\": \"Total\", \"valor\": 322.0}, {\"fecha\": \"2020-04-04T00:00:00\", \"atributo\": \"Total\", \"valor\": 277.0}, {\"fecha\": \"2020-04-05T00:00:00\", \"atributo\": \"Total\", \"valor\": 145.0}, {\"fecha\": \"2020-04-06T00:00:00\", \"atributo\": \"Total\", \"valor\": 177.0}, {\"fecha\": \"2020-04-07T00:00:00\", \"atributo\": \"Total\", \"valor\": 342.0}, {\"fecha\": \"2020-04-08T00:00:00\", \"atributo\": \"Total\", \"valor\": 448.0}, {\"fecha\": \"2020-04-09T00:00:00\", \"atributo\": \"Total\", \"valor\": 681.0}, {\"fecha\": \"2020-04-10T00:00:00\", \"atributo\": \"Total\", \"valor\": 640.0}, {\"fecha\": \"2020-04-11T00:00:00\", \"atributo\": \"Total\", \"valor\": 618.0}, {\"fecha\": \"2020-04-12T00:00:00\", \"atributo\": \"Total\", \"valor\": 660.0}, {\"fecha\": \"2020-04-13T00:00:00\", \"atributo\": \"Total\", \"valor\": 462.0}, {\"fecha\": \"2020-04-14T00:00:00\", \"atributo\": \"Total\", \"valor\": 693.0}, {\"fecha\": \"2020-04-15T00:00:00\", \"atributo\": \"Total\", \"valor\": 519.0}, {\"fecha\": \"2020-04-16T00:00:00\", \"atributo\": \"Total\", \"valor\": 791.0}, {\"fecha\": \"2020-03-13T00:00:00\", \"atributo\": \"Positivos\", \"valor\": 4.0}, {\"fecha\": \"2020-03-14T00:00:00\", \"atributo\": \"Positivos\", \"valor\": 2.0}, {\"fecha\": \"2020-03-15T00:00:00\", \"atributo\": \"Positivos\", \"valor\": 2.0}, {\"fecha\": \"2020-03-16T00:00:00\", \"atributo\": \"Positivos\", \"valor\": 21.0}, {\"fecha\": \"2020-03-17T00:00:00\", \"atributo\": \"Positivos\", \"valor\": 21.0}, {\"fecha\": \"2020-03-18T00:00:00\", \"atributo\": \"Positivos\", \"valor\": 29.0}, {\"fecha\": \"2020-03-19T00:00:00\", \"atributo\": \"Positivos\", \"valor\": 15.0}, {\"fecha\": \"2020-03-20T00:00:00\", \"atributo\": \"Positivos\", \"valor\": 16.0}, {\"fecha\": \"2020-03-21T00:00:00\", \"atributo\": \"Positivos\", \"valor\": 25.0}, {\"fecha\": \"2020-03-22T00:00:00\", \"atributo\": \"Positivos\", \"valor\": 23.0}, {\"fecha\": \"2020-03-23T00:00:00\", \"atributo\": \"Positivos\", \"valor\": 4.0}, {\"fecha\": \"2020-03-24T00:00:00\", \"atributo\": \"Positivos\", \"valor\": 27.0}, {\"fecha\": \"2020-03-25T00:00:00\", \"atributo\": \"Positivos\", \"valor\": 28.0}, {\"fecha\": \"2020-03-26T00:00:00\", \"atributo\": \"Positivos\", \"valor\": 21.0}, {\"fecha\": \"2020-03-27T00:00:00\", \"atributo\": \"Positivos\", \"valor\": 36.0}, {\"fecha\": \"2020-03-28T00:00:00\", \"atributo\": \"Positivos\", \"valor\": 30.0}, {\"fecha\": \"2020-03-29T00:00:00\", \"atributo\": \"Positivos\", \"valor\": 6.0}, {\"fecha\": \"2020-03-30T00:00:00\", \"atributo\": \"Positivos\", \"valor\": 10.0}, {\"fecha\": \"2020-03-31T00:00:00\", \"atributo\": \"Positivos\", \"valor\": 18.0}, {\"fecha\": \"2020-04-01T00:00:00\", \"atributo\": \"Positivos\", \"valor\": 12.0}, {\"fecha\": \"2020-04-02T00:00:00\", \"atributo\": \"Positivos\", \"valor\": 19.0}, {\"fecha\": \"2020-04-03T00:00:00\", \"atributo\": \"Positivos\", \"valor\": 17.0}, {\"fecha\": \"2020-04-04T00:00:00\", \"atributo\": \"Positivos\", \"valor\": 14.0}, {\"fecha\": \"2020-04-05T00:00:00\", \"atributo\": \"Positivos\", \"valor\": 6.0}, {\"fecha\": \"2020-04-06T00:00:00\", \"atributo\": \"Positivos\", \"valor\": 9.0}, {\"fecha\": \"2020-04-07T00:00:00\", \"atributo\": \"Positivos\", \"valor\": 9.0}, {\"fecha\": \"2020-04-08T00:00:00\", \"atributo\": \"Positivos\", \"valor\": 32.0}, {\"fecha\": \"2020-04-09T00:00:00\", \"atributo\": \"Positivos\", \"valor\": 17.0}, {\"fecha\": \"2020-04-10T00:00:00\", \"atributo\": \"Positivos\", \"valor\": 21.0}, {\"fecha\": \"2020-04-11T00:00:00\", \"atributo\": \"Positivos\", \"valor\": 7.0}, {\"fecha\": \"2020-04-12T00:00:00\", \"atributo\": \"Positivos\", \"valor\": 11.0}, {\"fecha\": \"2020-04-13T00:00:00\", \"atributo\": \"Positivos\", \"valor\": 9.0}, {\"fecha\": \"2020-04-14T00:00:00\", \"atributo\": \"Positivos\", \"valor\": 12.0}, {\"fecha\": \"2020-04-15T00:00:00\", \"atributo\": \"Positivos\", \"valor\": 6.0}, {\"fecha\": \"2020-04-16T00:00:00\", \"atributo\": \"Positivos\", \"valor\": 13.0}]}}, {\"mode\": \"vega-lite\"});\n",
       "</script>"
      ],
      "text/plain": [
       "alt.Chart(...)"
      ]
     },
     "execution_count": 36,
     "metadata": {},
     "output_type": "execute_result"
    }
   ],
   "source": [
    "# Selecciono campos a mostrar\n",
    "uymelt=pd.melt(uy.rename({'cantTest':'Total','cantTestPositivos':'Positivos' },axis=1),id_vars='fecha', \n",
    "               value_vars=['Total', 'Positivos'], var_name='atributo', value_name='valor')\n",
    "\n",
    "alt.Chart(uymelt).mark_bar(size=10).encode(\n",
    "    alt.X('fecha', type='temporal', title='Fecha'),\n",
    "    alt.Y('valor', type='quantitative', title='Cantidad de Tests'),\n",
    "    alt.Color('atributo', title='Tests diarios')\n",
    ").properties(title='Cantidad de Tests Diarios COVID-19 en Uruguay')\n",
    "\n"
   ]
  },
  {
   "cell_type": "markdown",
   "metadata": {},
   "source": [
    "### Personas con infección en curso y recuperados"
   ]
  },
  {
   "cell_type": "code",
   "execution_count": 63,
   "metadata": {
    "jupyter": {
     "source_hidden": true
    }
   },
   "outputs": [
    {
     "data": {
      "text/html": [
       "\n",
       "<div id=\"altair-viz-4d4c9c1d699c490587ba10b552d8be04\"></div>\n",
       "<script type=\"text/javascript\">\n",
       "  (function(spec, embedOpt){\n",
       "    let outputDiv = document.currentScript.previousElementSibling;\n",
       "    if (outputDiv.id !== \"altair-viz-4d4c9c1d699c490587ba10b552d8be04\") {\n",
       "      outputDiv = document.getElementById(\"altair-viz-4d4c9c1d699c490587ba10b552d8be04\");\n",
       "    }\n",
       "    const paths = {\n",
       "      \"vega\": \"https://cdn.jsdelivr.net/npm//vega@5?noext\",\n",
       "      \"vega-lib\": \"https://cdn.jsdelivr.net/npm//vega-lib?noext\",\n",
       "      \"vega-lite\": \"https://cdn.jsdelivr.net/npm//vega-lite@4.8.1?noext\",\n",
       "      \"vega-embed\": \"https://cdn.jsdelivr.net/npm//vega-embed@6?noext\",\n",
       "    };\n",
       "\n",
       "    function loadScript(lib) {\n",
       "      return new Promise(function(resolve, reject) {\n",
       "        var s = document.createElement('script');\n",
       "        s.src = paths[lib];\n",
       "        s.async = true;\n",
       "        s.onload = () => resolve(paths[lib]);\n",
       "        s.onerror = () => reject(`Error loading script: ${paths[lib]}`);\n",
       "        document.getElementsByTagName(\"head\")[0].appendChild(s);\n",
       "      });\n",
       "    }\n",
       "\n",
       "    function showError(err) {\n",
       "      outputDiv.innerHTML = `<div class=\"error\" style=\"color:red;\">${err}</div>`;\n",
       "      throw err;\n",
       "    }\n",
       "\n",
       "    function displayChart(vegaEmbed) {\n",
       "      vegaEmbed(outputDiv, spec, embedOpt)\n",
       "        .catch(err => showError(`Javascript Error: ${err.message}<br>This usually means there's a typo in your chart specification. See the javascript console for the full traceback.`));\n",
       "    }\n",
       "\n",
       "    if(typeof define === \"function\" && define.amd) {\n",
       "      requirejs.config({paths});\n",
       "      require([\"vega-embed\"], displayChart, err => showError(`Error loading script: ${err.message}`));\n",
       "    } else if (typeof vegaEmbed === \"function\") {\n",
       "      displayChart(vegaEmbed);\n",
       "    } else {\n",
       "      loadScript(\"vega\")\n",
       "        .then(() => loadScript(\"vega-lite\"))\n",
       "        .then(() => loadScript(\"vega-embed\"))\n",
       "        .catch(showError)\n",
       "        .then(() => displayChart(vegaEmbed));\n",
       "    }\n",
       "  })({\"config\": {\"view\": {\"continuousWidth\": 400, \"continuousHeight\": 300}}, \"data\": {\"name\": \"data-e067d738014ea8818b95c8503b5acd78\"}, \"mark\": {\"type\": \"line\", \"point\": true}, \"encoding\": {\"color\": {\"type\": \"nominal\", \"field\": \"atributo\", \"title\": \"Personas infectadas\"}, \"x\": {\"type\": \"temporal\", \"field\": \"fecha\", \"title\": \"Fecha\"}, \"y\": {\"type\": \"quantitative\", \"field\": \"valor\", \"title\": \"Cantidad de Tests\"}}, \"selection\": {\"selector016\": {\"type\": \"interval\", \"bind\": \"scales\", \"encodings\": [\"x\", \"y\"]}}, \"title\": \"Personas con infecci\\u00f3n en curso y recuperados en Uruguay\", \"$schema\": \"https://vega.github.io/schema/vega-lite/v4.8.1.json\", \"datasets\": {\"data-e067d738014ea8818b95c8503b5acd78\": [{\"fecha\": \"2020-03-13T00:00:00\", \"atributo\": \"Infecci\\u00f3n en curso\", \"valor\": null}, {\"fecha\": \"2020-03-14T00:00:00\", \"atributo\": \"Infecci\\u00f3n en curso\", \"valor\": null}, {\"fecha\": \"2020-03-15T00:00:00\", \"atributo\": \"Infecci\\u00f3n en curso\", \"valor\": null}, {\"fecha\": \"2020-03-16T00:00:00\", \"atributo\": \"Infecci\\u00f3n en curso\", \"valor\": null}, {\"fecha\": \"2020-03-17T00:00:00\", \"atributo\": \"Infecci\\u00f3n en curso\", \"valor\": 29.0}, {\"fecha\": \"2020-03-18T00:00:00\", \"atributo\": \"Infecci\\u00f3n en curso\", \"valor\": null}, {\"fecha\": \"2020-03-19T00:00:00\", \"atributo\": \"Infecci\\u00f3n en curso\", \"valor\": null}, {\"fecha\": \"2020-03-20T00:00:00\", \"atributo\": \"Infecci\\u00f3n en curso\", \"valor\": null}, {\"fecha\": \"2020-03-21T00:00:00\", \"atributo\": \"Infecci\\u00f3n en curso\", \"valor\": null}, {\"fecha\": \"2020-03-22T00:00:00\", \"atributo\": \"Infecci\\u00f3n en curso\", \"valor\": null}, {\"fecha\": \"2020-03-23T00:00:00\", \"atributo\": \"Infecci\\u00f3n en curso\", \"valor\": null}, {\"fecha\": \"2020-03-24T00:00:00\", \"atributo\": \"Infecci\\u00f3n en curso\", \"valor\": null}, {\"fecha\": \"2020-03-25T00:00:00\", \"atributo\": \"Infecci\\u00f3n en curso\", \"valor\": null}, {\"fecha\": \"2020-03-26T00:00:00\", \"atributo\": \"Infecci\\u00f3n en curso\", \"valor\": null}, {\"fecha\": \"2020-03-27T00:00:00\", \"atributo\": \"Infecci\\u00f3n en curso\", \"valor\": null}, {\"fecha\": \"2020-03-28T00:00:00\", \"atributo\": \"Infecci\\u00f3n en curso\", \"valor\": null}, {\"fecha\": \"2020-03-29T00:00:00\", \"atributo\": \"Infecci\\u00f3n en curso\", \"valor\": null}, {\"fecha\": \"2020-03-30T00:00:00\", \"atributo\": \"Infecci\\u00f3n en curso\", \"valor\": null}, {\"fecha\": \"2020-03-31T00:00:00\", \"atributo\": \"Infecci\\u00f3n en curso\", \"valor\": null}, {\"fecha\": \"2020-04-01T00:00:00\", \"atributo\": \"Infecci\\u00f3n en curso\", \"valor\": null}, {\"fecha\": \"2020-04-02T00:00:00\", \"atributo\": \"Infecci\\u00f3n en curso\", \"valor\": null}, {\"fecha\": \"2020-04-03T00:00:00\", \"atributo\": \"Infecci\\u00f3n en curso\", \"valor\": null}, {\"fecha\": \"2020-04-04T00:00:00\", \"atributo\": \"Infecci\\u00f3n en curso\", \"valor\": null}, {\"fecha\": \"2020-04-05T00:00:00\", \"atributo\": \"Infecci\\u00f3n en curso\", \"valor\": null}, {\"fecha\": \"2020-04-06T00:00:00\", \"atributo\": \"Infecci\\u00f3n en curso\", \"valor\": null}, {\"fecha\": \"2020-04-07T00:00:00\", \"atributo\": \"Infecci\\u00f3n en curso\", \"valor\": null}, {\"fecha\": \"2020-04-08T00:00:00\", \"atributo\": \"Infecci\\u00f3n en curso\", \"valor\": null}, {\"fecha\": \"2020-04-09T00:00:00\", \"atributo\": \"Infecci\\u00f3n en curso\", \"valor\": 238.0}, {\"fecha\": \"2020-04-10T00:00:00\", \"atributo\": \"Infecci\\u00f3n en curso\", \"valor\": 244.0}, {\"fecha\": \"2020-04-11T00:00:00\", \"atributo\": \"Infecci\\u00f3n en curso\", \"valor\": 241.0}, {\"fecha\": \"2020-04-12T00:00:00\", \"atributo\": \"Infecci\\u00f3n en curso\", \"valor\": 241.0}, {\"fecha\": \"2020-04-13T00:00:00\", \"atributo\": \"Infecci\\u00f3n en curso\", \"valor\": 227.0}, {\"fecha\": \"2020-04-14T00:00:00\", \"atributo\": \"Infecci\\u00f3n en curso\", \"valor\": 224.0}, {\"fecha\": \"2020-04-15T00:00:00\", \"atributo\": \"Infecci\\u00f3n en curso\", \"valor\": 212.0}, {\"fecha\": \"2020-04-16T00:00:00\", \"atributo\": \"Infecci\\u00f3n en curso\", \"valor\": 207.0}, {\"fecha\": \"2020-03-13T00:00:00\", \"atributo\": \"Recuperados\", \"valor\": null}, {\"fecha\": \"2020-03-14T00:00:00\", \"atributo\": \"Recuperados\", \"valor\": null}, {\"fecha\": \"2020-03-15T00:00:00\", \"atributo\": \"Recuperados\", \"valor\": null}, {\"fecha\": \"2020-03-16T00:00:00\", \"atributo\": \"Recuperados\", \"valor\": null}, {\"fecha\": \"2020-03-17T00:00:00\", \"atributo\": \"Recuperados\", \"valor\": null}, {\"fecha\": \"2020-03-18T00:00:00\", \"atributo\": \"Recuperados\", \"valor\": null}, {\"fecha\": \"2020-03-19T00:00:00\", \"atributo\": \"Recuperados\", \"valor\": null}, {\"fecha\": \"2020-03-20T00:00:00\", \"atributo\": \"Recuperados\", \"valor\": null}, {\"fecha\": \"2020-03-21T00:00:00\", \"atributo\": \"Recuperados\", \"valor\": null}, {\"fecha\": \"2020-03-22T00:00:00\", \"atributo\": \"Recuperados\", \"valor\": null}, {\"fecha\": \"2020-03-23T00:00:00\", \"atributo\": \"Recuperados\", \"valor\": null}, {\"fecha\": \"2020-03-24T00:00:00\", \"atributo\": \"Recuperados\", \"valor\": null}, {\"fecha\": \"2020-03-25T00:00:00\", \"atributo\": \"Recuperados\", \"valor\": null}, {\"fecha\": \"2020-03-26T00:00:00\", \"atributo\": \"Recuperados\", \"valor\": null}, {\"fecha\": \"2020-03-27T00:00:00\", \"atributo\": \"Recuperados\", \"valor\": null}, {\"fecha\": \"2020-03-28T00:00:00\", \"atributo\": \"Recuperados\", \"valor\": null}, {\"fecha\": \"2020-03-29T00:00:00\", \"atributo\": \"Recuperados\", \"valor\": null}, {\"fecha\": \"2020-03-30T00:00:00\", \"atributo\": \"Recuperados\", \"valor\": 25.0}, {\"fecha\": \"2020-03-31T00:00:00\", \"atributo\": \"Recuperados\", \"valor\": 41.0}, {\"fecha\": \"2020-04-01T00:00:00\", \"atributo\": \"Recuperados\", \"valor\": 62.0}, {\"fecha\": \"2020-04-02T00:00:00\", \"atributo\": \"Recuperados\", \"valor\": 68.0}, {\"fecha\": \"2020-04-03T00:00:00\", \"atributo\": \"Recuperados\", \"valor\": 86.0}, {\"fecha\": \"2020-04-04T00:00:00\", \"atributo\": \"Recuperados\", \"valor\": 93.0}, {\"fecha\": \"2020-04-05T00:00:00\", \"atributo\": \"Recuperados\", \"valor\": 104.0}, {\"fecha\": \"2020-04-06T00:00:00\", \"atributo\": \"Recuperados\", \"valor\": 123.0}, {\"fecha\": \"2020-04-07T00:00:00\", \"atributo\": \"Recuperados\", \"valor\": 150.0}, {\"fecha\": \"2020-04-08T00:00:00\", \"atributo\": \"Recuperados\", \"valor\": 192.0}, {\"fecha\": \"2020-04-09T00:00:00\", \"atributo\": \"Recuperados\", \"valor\": 206.0}, {\"fecha\": \"2020-04-10T00:00:00\", \"atributo\": \"Recuperados\", \"valor\": 214.0}, {\"fecha\": \"2020-04-11T00:00:00\", \"atributo\": \"Recuperados\", \"valor\": 224.0}, {\"fecha\": \"2020-04-12T00:00:00\", \"atributo\": \"Recuperados\", \"valor\": 231.0}, {\"fecha\": \"2020-04-13T00:00:00\", \"atributo\": \"Recuperados\", \"valor\": 248.0}, {\"fecha\": \"2020-04-14T00:00:00\", \"atributo\": \"Recuperados\", \"valor\": 260.0}, {\"fecha\": \"2020-04-15T00:00:00\", \"atributo\": \"Recuperados\", \"valor\": 272.0}, {\"fecha\": \"2020-04-16T00:00:00\", \"atributo\": \"Recuperados\", \"valor\": 286.0}]}}, {\"mode\": \"vega-lite\"});\n",
       "</script>"
      ],
      "text/plain": [
       "alt.Chart(...)"
      ]
     },
     "execution_count": 63,
     "metadata": {},
     "output_type": "execute_result"
    }
   ],
   "source": [
    "# Selecciono campos a mostrar\n",
    "uymelt=pd.melt(uy.rename({'cantPersonasConInfeccionEnCurso':'Infección en curso','acumRecuperados':'Recuperados' },axis=1),id_vars='fecha', \n",
    "               value_vars=['Infección en curso','Recuperados'],\n",
    "               var_name='atributo', value_name='valor')\n",
    "\n",
    "alt.Chart(uymelt).mark_line(point=True).encode(\n",
    "    alt.X('fecha', type='temporal', title='Fecha'),\n",
    "    alt.Y('valor', type='quantitative', title='Cantidad de Tests'),\n",
    "    alt.Color('atributo', title='Personas infectadas')\n",
    ").properties(title='Personas con infección en curso y recuperados en Uruguay').interactive()\n"
   ]
  },
  {
   "cell_type": "code",
   "execution_count": 88,
   "metadata": {
    "jupyter": {
     "source_hidden": true
    }
   },
   "outputs": [
    {
     "data": {
      "text/html": [
       "\n",
       "<div id=\"altair-viz-ec130381716e4f9291ba134dbd751d0f\"></div>\n",
       "<script type=\"text/javascript\">\n",
       "  (function(spec, embedOpt){\n",
       "    let outputDiv = document.currentScript.previousElementSibling;\n",
       "    if (outputDiv.id !== \"altair-viz-ec130381716e4f9291ba134dbd751d0f\") {\n",
       "      outputDiv = document.getElementById(\"altair-viz-ec130381716e4f9291ba134dbd751d0f\");\n",
       "    }\n",
       "    const paths = {\n",
       "      \"vega\": \"https://cdn.jsdelivr.net/npm//vega@5?noext\",\n",
       "      \"vega-lib\": \"https://cdn.jsdelivr.net/npm//vega-lib?noext\",\n",
       "      \"vega-lite\": \"https://cdn.jsdelivr.net/npm//vega-lite@4.8.1?noext\",\n",
       "      \"vega-embed\": \"https://cdn.jsdelivr.net/npm//vega-embed@6?noext\",\n",
       "    };\n",
       "\n",
       "    function loadScript(lib) {\n",
       "      return new Promise(function(resolve, reject) {\n",
       "        var s = document.createElement('script');\n",
       "        s.src = paths[lib];\n",
       "        s.async = true;\n",
       "        s.onload = () => resolve(paths[lib]);\n",
       "        s.onerror = () => reject(`Error loading script: ${paths[lib]}`);\n",
       "        document.getElementsByTagName(\"head\")[0].appendChild(s);\n",
       "      });\n",
       "    }\n",
       "\n",
       "    function showError(err) {\n",
       "      outputDiv.innerHTML = `<div class=\"error\" style=\"color:red;\">${err}</div>`;\n",
       "      throw err;\n",
       "    }\n",
       "\n",
       "    function displayChart(vegaEmbed) {\n",
       "      vegaEmbed(outputDiv, spec, embedOpt)\n",
       "        .catch(err => showError(`Javascript Error: ${err.message}<br>This usually means there's a typo in your chart specification. See the javascript console for the full traceback.`));\n",
       "    }\n",
       "\n",
       "    if(typeof define === \"function\" && define.amd) {\n",
       "      requirejs.config({paths});\n",
       "      require([\"vega-embed\"], displayChart, err => showError(`Error loading script: ${err.message}`));\n",
       "    } else if (typeof vegaEmbed === \"function\") {\n",
       "      displayChart(vegaEmbed);\n",
       "    } else {\n",
       "      loadScript(\"vega\")\n",
       "        .then(() => loadScript(\"vega-lite\"))\n",
       "        .then(() => loadScript(\"vega-embed\"))\n",
       "        .catch(showError)\n",
       "        .then(() => displayChart(vegaEmbed));\n",
       "    }\n",
       "  })({\"config\": {\"view\": {\"continuousWidth\": 400, \"continuousHeight\": 300}}, \"data\": {\"name\": \"data-cd35b8e4db8310c0bd9d1cf7ba38aba3\"}, \"mark\": \"bar\", \"encoding\": {\"color\": {\"type\": \"nominal\", \"field\": \"atributo\", \"legend\": null, \"title\": \"Casos por tipo y por d\\u00eda\"}, \"facet\": {\"type\": \"nominal\", \"columns\": 4, \"field\": \"atributo\", \"title\": \"Casos\"}, \"x\": {\"type\": \"temporal\", \"field\": \"fecha\", \"title\": \"Fecha\"}, \"y\": {\"type\": \"quantitative\", \"field\": \"valor\", \"title\": \"Cantidad\"}}, \"height\": 200, \"selection\": {\"selector035\": {\"type\": \"interval\", \"bind\": \"scales\", \"encodings\": [\"x\", \"y\"]}}, \"title\": \"Situaci\\u00f3n Diaria\", \"width\": 200, \"$schema\": \"https://vega.github.io/schema/vega-lite/v4.8.1.json\", \"datasets\": {\"data-cd35b8e4db8310c0bd9d1cf7ba38aba3\": [{\"fecha\": \"2020-03-13T00:00:00\", \"atributo\": \"CTI\", \"valor\": null}, {\"fecha\": \"2020-03-14T00:00:00\", \"atributo\": \"CTI\", \"valor\": null}, {\"fecha\": \"2020-03-15T00:00:00\", \"atributo\": \"CTI\", \"valor\": null}, {\"fecha\": \"2020-03-16T00:00:00\", \"atributo\": \"CTI\", \"valor\": null}, {\"fecha\": \"2020-03-17T00:00:00\", \"atributo\": \"CTI\", \"valor\": null}, {\"fecha\": \"2020-03-18T00:00:00\", \"atributo\": \"CTI\", \"valor\": null}, {\"fecha\": \"2020-03-19T00:00:00\", \"atributo\": \"CTI\", \"valor\": null}, {\"fecha\": \"2020-03-20T00:00:00\", \"atributo\": \"CTI\", \"valor\": null}, {\"fecha\": \"2020-03-21T00:00:00\", \"atributo\": \"CTI\", \"valor\": 2.0}, {\"fecha\": \"2020-03-22T00:00:00\", \"atributo\": \"CTI\", \"valor\": null}, {\"fecha\": \"2020-03-23T00:00:00\", \"atributo\": \"CTI\", \"valor\": null}, {\"fecha\": \"2020-03-24T00:00:00\", \"atributo\": \"CTI\", \"valor\": null}, {\"fecha\": \"2020-03-25T00:00:00\", \"atributo\": \"CTI\", \"valor\": 4.0}, {\"fecha\": \"2020-03-26T00:00:00\", \"atributo\": \"CTI\", \"valor\": 4.0}, {\"fecha\": \"2020-03-27T00:00:00\", \"atributo\": \"CTI\", \"valor\": 8.0}, {\"fecha\": \"2020-03-28T00:00:00\", \"atributo\": \"CTI\", \"valor\": 8.0}, {\"fecha\": \"2020-03-29T00:00:00\", \"atributo\": \"CTI\", \"valor\": 10.0}, {\"fecha\": \"2020-03-30T00:00:00\", \"atributo\": \"CTI\", \"valor\": 11.0}, {\"fecha\": \"2020-03-31T00:00:00\", \"atributo\": \"CTI\", \"valor\": 12.0}, {\"fecha\": \"2020-04-01T00:00:00\", \"atributo\": \"CTI\", \"valor\": 15.0}, {\"fecha\": \"2020-04-02T00:00:00\", \"atributo\": \"CTI\", \"valor\": 13.0}, {\"fecha\": \"2020-04-03T00:00:00\", \"atributo\": \"CTI\", \"valor\": 13.0}, {\"fecha\": \"2020-04-04T00:00:00\", \"atributo\": \"CTI\", \"valor\": 13.0}, {\"fecha\": \"2020-04-05T00:00:00\", \"atributo\": \"CTI\", \"valor\": 14.0}, {\"fecha\": \"2020-04-06T00:00:00\", \"atributo\": \"CTI\", \"valor\": 14.0}, {\"fecha\": \"2020-04-07T00:00:00\", \"atributo\": \"CTI\", \"valor\": 14.0}, {\"fecha\": \"2020-04-08T00:00:00\", \"atributo\": \"CTI\", \"valor\": 14.0}, {\"fecha\": \"2020-04-09T00:00:00\", \"atributo\": \"CTI\", \"valor\": 13.0}, {\"fecha\": \"2020-04-10T00:00:00\", \"atributo\": \"CTI\", \"valor\": 15.0}, {\"fecha\": \"2020-04-11T00:00:00\", \"atributo\": \"CTI\", \"valor\": 16.0}, {\"fecha\": \"2020-04-12T00:00:00\", \"atributo\": \"CTI\", \"valor\": 16.0}, {\"fecha\": \"2020-04-13T00:00:00\", \"atributo\": \"CTI\", \"valor\": 15.0}, {\"fecha\": \"2020-04-14T00:00:00\", \"atributo\": \"CTI\", \"valor\": 14.0}, {\"fecha\": \"2020-04-15T00:00:00\", \"atributo\": \"CTI\", \"valor\": 13.0}, {\"fecha\": \"2020-04-16T00:00:00\", \"atributo\": \"CTI\", \"valor\": 13.0}, {\"fecha\": \"2020-03-13T00:00:00\", \"atributo\": \"Cuidados Intermedios\", \"valor\": null}, {\"fecha\": \"2020-03-14T00:00:00\", \"atributo\": \"Cuidados Intermedios\", \"valor\": null}, {\"fecha\": \"2020-03-15T00:00:00\", \"atributo\": \"Cuidados Intermedios\", \"valor\": null}, {\"fecha\": \"2020-03-16T00:00:00\", \"atributo\": \"Cuidados Intermedios\", \"valor\": null}, {\"fecha\": \"2020-03-17T00:00:00\", \"atributo\": \"Cuidados Intermedios\", \"valor\": null}, {\"fecha\": \"2020-03-18T00:00:00\", \"atributo\": \"Cuidados Intermedios\", \"valor\": null}, {\"fecha\": \"2020-03-19T00:00:00\", \"atributo\": \"Cuidados Intermedios\", \"valor\": null}, {\"fecha\": \"2020-03-20T00:00:00\", \"atributo\": \"Cuidados Intermedios\", \"valor\": null}, {\"fecha\": \"2020-03-21T00:00:00\", \"atributo\": \"Cuidados Intermedios\", \"valor\": 0.0}, {\"fecha\": \"2020-03-22T00:00:00\", \"atributo\": \"Cuidados Intermedios\", \"valor\": null}, {\"fecha\": \"2020-03-23T00:00:00\", \"atributo\": \"Cuidados Intermedios\", \"valor\": null}, {\"fecha\": \"2020-03-24T00:00:00\", \"atributo\": \"Cuidados Intermedios\", \"valor\": null}, {\"fecha\": \"2020-03-25T00:00:00\", \"atributo\": \"Cuidados Intermedios\", \"valor\": 2.0}, {\"fecha\": \"2020-03-26T00:00:00\", \"atributo\": \"Cuidados Intermedios\", \"valor\": 2.0}, {\"fecha\": \"2020-03-27T00:00:00\", \"atributo\": \"Cuidados Intermedios\", \"valor\": 0.0}, {\"fecha\": \"2020-03-28T00:00:00\", \"atributo\": \"Cuidados Intermedios\", \"valor\": 5.0}, {\"fecha\": \"2020-03-29T00:00:00\", \"atributo\": \"Cuidados Intermedios\", \"valor\": 2.0}, {\"fecha\": \"2020-03-30T00:00:00\", \"atributo\": \"Cuidados Intermedios\", \"valor\": 1.0}, {\"fecha\": \"2020-03-31T00:00:00\", \"atributo\": \"Cuidados Intermedios\", \"valor\": 1.0}, {\"fecha\": \"2020-04-01T00:00:00\", \"atributo\": \"Cuidados Intermedios\", \"valor\": 0.0}, {\"fecha\": \"2020-04-02T00:00:00\", \"atributo\": \"Cuidados Intermedios\", \"valor\": 0.0}, {\"fecha\": \"2020-04-03T00:00:00\", \"atributo\": \"Cuidados Intermedios\", \"valor\": 1.0}, {\"fecha\": \"2020-04-04T00:00:00\", \"atributo\": \"Cuidados Intermedios\", \"valor\": 0.0}, {\"fecha\": \"2020-04-05T00:00:00\", \"atributo\": \"Cuidados Intermedios\", \"valor\": 1.0}, {\"fecha\": \"2020-04-06T00:00:00\", \"atributo\": \"Cuidados Intermedios\", \"valor\": 1.0}, {\"fecha\": \"2020-04-07T00:00:00\", \"atributo\": \"Cuidados Intermedios\", \"valor\": 4.0}, {\"fecha\": \"2020-04-08T00:00:00\", \"atributo\": \"Cuidados Intermedios\", \"valor\": 4.0}, {\"fecha\": \"2020-04-09T00:00:00\", \"atributo\": \"Cuidados Intermedios\", \"valor\": 4.0}, {\"fecha\": \"2020-04-10T00:00:00\", \"atributo\": \"Cuidados Intermedios\", \"valor\": 0.0}, {\"fecha\": \"2020-04-11T00:00:00\", \"atributo\": \"Cuidados Intermedios\", \"valor\": 1.0}, {\"fecha\": \"2020-04-12T00:00:00\", \"atributo\": \"Cuidados Intermedios\", \"valor\": 0.0}, {\"fecha\": \"2020-04-13T00:00:00\", \"atributo\": \"Cuidados Intermedios\", \"valor\": 0.0}, {\"fecha\": \"2020-04-14T00:00:00\", \"atributo\": \"Cuidados Intermedios\", \"valor\": 0.0}, {\"fecha\": \"2020-04-15T00:00:00\", \"atributo\": \"Cuidados Intermedios\", \"valor\": 0.0}, {\"fecha\": \"2020-04-16T00:00:00\", \"atributo\": \"Cuidados Intermedios\", \"valor\": 0.0}, {\"fecha\": \"2020-03-13T00:00:00\", \"atributo\": \"Fallecidos\", \"valor\": 0.0}, {\"fecha\": \"2020-03-14T00:00:00\", \"atributo\": \"Fallecidos\", \"valor\": 0.0}, {\"fecha\": \"2020-03-15T00:00:00\", \"atributo\": \"Fallecidos\", \"valor\": 0.0}, {\"fecha\": \"2020-03-16T00:00:00\", \"atributo\": \"Fallecidos\", \"valor\": 0.0}, {\"fecha\": \"2020-03-17T00:00:00\", \"atributo\": \"Fallecidos\", \"valor\": 0.0}, {\"fecha\": \"2020-03-18T00:00:00\", \"atributo\": \"Fallecidos\", \"valor\": 0.0}, {\"fecha\": \"2020-03-19T00:00:00\", \"atributo\": \"Fallecidos\", \"valor\": 0.0}, {\"fecha\": \"2020-03-20T00:00:00\", \"atributo\": \"Fallecidos\", \"valor\": 0.0}, {\"fecha\": \"2020-03-21T00:00:00\", \"atributo\": \"Fallecidos\", \"valor\": 0.0}, {\"fecha\": \"2020-03-22T00:00:00\", \"atributo\": \"Fallecidos\", \"valor\": 0.0}, {\"fecha\": \"2020-03-23T00:00:00\", \"atributo\": \"Fallecidos\", \"valor\": 0.0}, {\"fecha\": \"2020-03-24T00:00:00\", \"atributo\": \"Fallecidos\", \"valor\": 0.0}, {\"fecha\": \"2020-03-25T00:00:00\", \"atributo\": \"Fallecidos\", \"valor\": 0.0}, {\"fecha\": \"2020-03-26T00:00:00\", \"atributo\": \"Fallecidos\", \"valor\": 0.0}, {\"fecha\": \"2020-03-27T00:00:00\", \"atributo\": \"Fallecidos\", \"valor\": 0.0}, {\"fecha\": \"2020-03-28T00:00:00\", \"atributo\": \"Fallecidos\", \"valor\": 1.0}, {\"fecha\": \"2020-03-29T00:00:00\", \"atributo\": \"Fallecidos\", \"valor\": 0.0}, {\"fecha\": \"2020-03-30T00:00:00\", \"atributo\": \"Fallecidos\", \"valor\": 0.0}, {\"fecha\": \"2020-03-31T00:00:00\", \"atributo\": \"Fallecidos\", \"valor\": 0.0}, {\"fecha\": \"2020-04-01T00:00:00\", \"atributo\": \"Fallecidos\", \"valor\": 1.0}, {\"fecha\": \"2020-04-02T00:00:00\", \"atributo\": \"Fallecidos\", \"valor\": 2.0}, {\"fecha\": \"2020-04-03T00:00:00\", \"atributo\": \"Fallecidos\", \"valor\": 0.0}, {\"fecha\": \"2020-04-04T00:00:00\", \"atributo\": \"Fallecidos\", \"valor\": 1.0}, {\"fecha\": \"2020-04-05T00:00:00\", \"atributo\": \"Fallecidos\", \"valor\": 1.0}, {\"fecha\": \"2020-04-06T00:00:00\", \"atributo\": \"Fallecidos\", \"valor\": 0.0}, {\"fecha\": \"2020-04-07T00:00:00\", \"atributo\": \"Fallecidos\", \"valor\": 1.0}, {\"fecha\": \"2020-04-08T00:00:00\", \"atributo\": \"Fallecidos\", \"valor\": 0.0}, {\"fecha\": \"2020-04-09T00:00:00\", \"atributo\": \"Fallecidos\", \"valor\": 0.0}, {\"fecha\": \"2020-04-10T00:00:00\", \"atributo\": \"Fallecidos\", \"valor\": 0.0}, {\"fecha\": \"2020-04-11T00:00:00\", \"atributo\": \"Fallecidos\", \"valor\": 0.0}, {\"fecha\": \"2020-04-12T00:00:00\", \"atributo\": \"Fallecidos\", \"valor\": 1.0}, {\"fecha\": \"2020-04-13T00:00:00\", \"atributo\": \"Fallecidos\", \"valor\": 0.0}, {\"fecha\": \"2020-04-14T00:00:00\", \"atributo\": \"Fallecidos\", \"valor\": 0.0}, {\"fecha\": \"2020-04-15T00:00:00\", \"atributo\": \"Fallecidos\", \"valor\": 1.0}, {\"fecha\": \"2020-04-16T00:00:00\", \"atributo\": \"Fallecidos\", \"valor\": 0.0}, {\"fecha\": \"2020-03-13T00:00:00\", \"atributo\": \"Nuevos\", \"valor\": null}, {\"fecha\": \"2020-03-14T00:00:00\", \"atributo\": \"Nuevos\", \"valor\": null}, {\"fecha\": \"2020-03-15T00:00:00\", \"atributo\": \"Nuevos\", \"valor\": null}, {\"fecha\": \"2020-03-16T00:00:00\", \"atributo\": \"Nuevos\", \"valor\": null}, {\"fecha\": \"2020-03-17T00:00:00\", \"atributo\": \"Nuevos\", \"valor\": null}, {\"fecha\": \"2020-03-18T00:00:00\", \"atributo\": \"Nuevos\", \"valor\": null}, {\"fecha\": \"2020-03-19T00:00:00\", \"atributo\": \"Nuevos\", \"valor\": null}, {\"fecha\": \"2020-03-20T00:00:00\", \"atributo\": \"Nuevos\", \"valor\": null}, {\"fecha\": \"2020-03-21T00:00:00\", \"atributo\": \"Nuevos\", \"valor\": null}, {\"fecha\": \"2020-03-22T00:00:00\", \"atributo\": \"Nuevos\", \"valor\": null}, {\"fecha\": \"2020-03-23T00:00:00\", \"atributo\": \"Nuevos\", \"valor\": null}, {\"fecha\": \"2020-03-24T00:00:00\", \"atributo\": \"Nuevos\", \"valor\": null}, {\"fecha\": \"2020-03-25T00:00:00\", \"atributo\": \"Nuevos\", \"valor\": null}, {\"fecha\": \"2020-03-26T00:00:00\", \"atributo\": \"Nuevos\", \"valor\": null}, {\"fecha\": \"2020-03-27T00:00:00\", \"atributo\": \"Nuevos\", \"valor\": null}, {\"fecha\": \"2020-03-28T00:00:00\", \"atributo\": \"Nuevos\", \"valor\": null}, {\"fecha\": \"2020-03-29T00:00:00\", \"atributo\": \"Nuevos\", \"valor\": null}, {\"fecha\": \"2020-03-30T00:00:00\", \"atributo\": \"Nuevos\", \"valor\": null}, {\"fecha\": \"2020-03-31T00:00:00\", \"atributo\": \"Nuevos\", \"valor\": null}, {\"fecha\": \"2020-04-01T00:00:00\", \"atributo\": \"Nuevos\", \"valor\": null}, {\"fecha\": \"2020-04-02T00:00:00\", \"atributo\": \"Nuevos\", \"valor\": null}, {\"fecha\": \"2020-04-03T00:00:00\", \"atributo\": \"Nuevos\", \"valor\": null}, {\"fecha\": \"2020-04-04T00:00:00\", \"atributo\": \"Nuevos\", \"valor\": null}, {\"fecha\": \"2020-04-05T00:00:00\", \"atributo\": \"Nuevos\", \"valor\": null}, {\"fecha\": \"2020-04-06T00:00:00\", \"atributo\": \"Nuevos\", \"valor\": null}, {\"fecha\": \"2020-04-07T00:00:00\", \"atributo\": \"Nuevos\", \"valor\": null}, {\"fecha\": \"2020-04-08T00:00:00\", \"atributo\": \"Nuevos\", \"valor\": null}, {\"fecha\": \"2020-04-09T00:00:00\", \"atributo\": \"Nuevos\", \"valor\": null}, {\"fecha\": \"2020-04-10T00:00:00\", \"atributo\": \"Nuevos\", \"valor\": 14.0}, {\"fecha\": \"2020-04-11T00:00:00\", \"atributo\": \"Nuevos\", \"valor\": 7.0}, {\"fecha\": \"2020-04-12T00:00:00\", \"atributo\": \"Nuevos\", \"valor\": 8.0}, {\"fecha\": \"2020-04-13T00:00:00\", \"atributo\": \"Nuevos\", \"valor\": 3.0}, {\"fecha\": \"2020-04-14T00:00:00\", \"atributo\": \"Nuevos\", \"valor\": 9.0}, {\"fecha\": \"2020-04-15T00:00:00\", \"atributo\": \"Nuevos\", \"valor\": 1.0}, {\"fecha\": \"2020-04-16T00:00:00\", \"atributo\": \"Nuevos\", \"valor\": 9.0}]}}, {\"mode\": \"vega-lite\"});\n",
       "</script>"
      ],
      "text/plain": [
       "alt.Chart(...)"
      ]
     },
     "execution_count": 88,
     "metadata": {},
     "output_type": "execute_result"
    }
   ],
   "source": [
    "uymelt=pd.melt(uy.rename({'cantCTI':'CTI','cantCI':'Cuidados Intermedios', 'cantFallecidos':'Fallecidos',\n",
    "                          'Cant casos nuevos':'Nuevos' },axis=1),\n",
    "               id_vars='fecha', \n",
    "               value_vars=[ 'CTI', 'Cuidados Intermedios',\n",
    "                           'Fallecidos','Nuevos'],\n",
    "               var_name='atributo', value_name='valor')\n",
    "alt.Chart(uymelt).mark_bar().encode(\n",
    "    alt.X('fecha', type='temporal', title='Fecha'),\n",
    "    alt.Y('valor', type='quantitative', title='Cantidad'),\n",
    "    alt.Color('atributo', title='Casos por tipo y por día', legend=None), \n",
    "    facet=alt.Facet('atributo',title='Casos', columns=4)\n",
    ").properties(title='Situación Diaria', width=200, height=200).interactive()"
   ]
  }
 ],
 "metadata": {
  "kernelspec": {
   "display_name": "Python 3",
   "language": "python",
   "name": "python3"
  },
  "language_info": {
   "codemirror_mode": {
    "name": "ipython",
    "version": 3
   },
   "file_extension": ".py",
   "mimetype": "text/x-python",
   "name": "python",
   "nbconvert_exporter": "python",
   "pygments_lexer": "ipython3",
   "version": "3.7.4"
  }
 },
 "nbformat": 4,
 "nbformat_minor": 4
}
